{
  "nbformat": 4,
  "nbformat_minor": 0,
  "metadata": {
    "colab": {
      "provenance": [],
      "collapsed_sections": [],
      "include_colab_link": true
    },
    "kernelspec": {
      "name": "python3",
      "display_name": "Python 3"
    },
    "language_info": {
      "name": "python"
    }
  },
  "cells": [
    {
      "cell_type": "markdown",
      "metadata": {
        "id": "view-in-github",
        "colab_type": "text"
      },
      "source": [
        "<a href=\"https://colab.research.google.com/github/ashritha17/MazeProblem/blob/main/Maze_problem_Task3_final.ipynb\" target=\"_parent\"><img src=\"https://colab.research.google.com/assets/colab-badge.svg\" alt=\"Open In Colab\"/></a>"
      ]
    },
    {
      "cell_type": "code",
      "execution_count": null,
      "metadata": {
        "id": "ADx62RbV1Hx8"
      },
      "outputs": [],
      "source": [
        "#Generating a matrix with # and desired dimensions\n",
        "import numpy as np"
      ]
    },
    {
      "cell_type": "code",
      "source": [
        "#dimensions of maze\n",
        "m=20\n",
        "n=33"
      ],
      "metadata": {
        "id": "GigXZGRsd4tA"
      },
      "execution_count": null,
      "outputs": []
    },
    {
      "cell_type": "code",
      "source": [
        "maze = np.full((m,n), fill_value='#')"
      ],
      "metadata": {
        "id": "Lgy9mKJOiE1y"
      },
      "execution_count": null,
      "outputs": []
    },
    {
      "cell_type": "code",
      "source": [
        "maze.tolist()"
      ],
      "metadata": {
        "id": "5miWntRAQl61"
      },
      "execution_count": null,
      "outputs": []
    },
    {
      "cell_type": "code",
      "source": [
        "type(maze[0])"
      ],
      "metadata": {
        "colab": {
          "base_uri": "https://localhost:8080/"
        },
        "id": "zfWdJAHsl73E",
        "outputId": "f074b5a0-225d-47fb-d8d1-92a49301f4ba"
      },
      "execution_count": null,
      "outputs": [
        {
          "output_type": "execute_result",
          "data": {
            "text/plain": [
              "numpy.ndarray"
            ]
          },
          "metadata": {},
          "execution_count": 12
        }
      ]
    },
    {
      "cell_type": "code",
      "source": [
        "maze[0][0]=\"a\""
      ],
      "metadata": {
        "id": "M3GjEoHamPB4"
      },
      "execution_count": null,
      "outputs": []
    },
    {
      "cell_type": "code",
      "source": [
        "maze"
      ],
      "metadata": {
        "id": "AG75sndrmUze"
      },
      "execution_count": null,
      "outputs": []
    },
    {
      "cell_type": "code",
      "source": [
        "#Placing # for obstacles and \" \" for the path\n",
        "class CreateMaze:\n",
        "  def __init__(self, a, b):\n",
        "    self.a = a\n",
        "    self.b = b\n",
        "  def go_right(self):\n",
        "    if self.b<n-1:\n",
        "      self.b= self.b+1\n",
        "      maze[self.a][self.b]=\"o\"\n",
        "  def go_down(self):\n",
        "    if self.a<m-1:\n",
        "      self.a=self.a +1\n",
        "      maze[self.a][self.b]=\"o\"\n",
        "  \n",
        "  \n",
        "    "
      ],
      "metadata": {
        "id": "bjS6L3DkOcIw"
      },
      "execution_count": null,
      "outputs": []
    },
    {
      "cell_type": "code",
      "source": [
        "start=CreateMaze(0,0)"
      ],
      "metadata": {
        "id": "0H-TGcRdPnQL"
      },
      "execution_count": null,
      "outputs": []
    },
    {
      "cell_type": "code",
      "source": [
        "#replacing # with \" \" to display the desired path\n",
        "maze[0][0]=\"o\"\n",
        "for i in range(m-1):\n",
        "  start.go_right()\n",
        "  start.go_down()\n",
        "for j in range(13):\n",
        "   start.go_right()"
      ],
      "metadata": {
        "id": "ZlHP16G-Pspv"
      },
      "execution_count": null,
      "outputs": []
    },
    {
      "cell_type": "code",
      "source": [
        "#Displaying the maze with # and o\n",
        "for i in range(20):\n",
        "  for j in range(33):\n",
        "      print(str(maze[i][j]) + \" \" , end='')\n",
        "  print()\n",
        "  \n"
      ],
      "metadata": {
        "colab": {
          "base_uri": "https://localhost:8080/"
        },
        "id": "O16JcHdfTc5U",
        "outputId": "00102662-bd17-42c5-d3a6-81c47a12d46f"
      },
      "execution_count": null,
      "outputs": [
        {
          "output_type": "stream",
          "name": "stdout",
          "text": [
            "o o # # # # # # # # # # # # # # # # # # # # # # # # # # # # # # # \n",
            "# o o # # # # # # # # # # # # # # # # # # # # # # # # # # # # # # \n",
            "# # o o # # # # # # # # # # # # # # # # # # # # # # # # # # # # # \n",
            "# # # o o # # # # # # # # # # # # # # # # # # # # # # # # # # # # \n",
            "# # # # o o # # # # # # # # # # # # # # # # # # # # # # # # # # # \n",
            "# # # # # o o # # # # # # # # # # # # # # # # # # # # # # # # # # \n",
            "# # # # # # o o # # # # # # # # # # # # # # # # # # # # # # # # # \n",
            "# # # # # # # o o # # # # # # # # # # # # # # # # # # # # # # # # \n",
            "# # # # # # # # o o # # # # # # # # # # # # # # # # # # # # # # # \n",
            "# # # # # # # # # o o # # # # # # # # # # # # # # # # # # # # # # \n",
            "# # # # # # # # # # o o # # # # # # # # # # # # # # # # # # # # # \n",
            "# # # # # # # # # # # o o # # # # # # # # # # # # # # # # # # # # \n",
            "# # # # # # # # # # # # o o # # # # # # # # # # # # # # # # # # # \n",
            "# # # # # # # # # # # # # o o # # # # # # # # # # # # # # # # # # \n",
            "# # # # # # # # # # # # # # o o # # # # # # # # # # # # # # # # # \n",
            "# # # # # # # # # # # # # # # o o # # # # # # # # # # # # # # # # \n",
            "# # # # # # # # # # # # # # # # o o # # # # # # # # # # # # # # # \n",
            "# # # # # # # # # # # # # # # # # o o # # # # # # # # # # # # # # \n",
            "# # # # # # # # # # # # # # # # # # o o # # # # # # # # # # # # # \n",
            "# # # # # # # # # # # # # # # # # # # o o o o o o o o o o o o o o \n"
          ]
        }
      ]
    },
    {
      "cell_type": "code",
      "source": [
        "#genetic algorithm implementation\n",
        "MAX_LIMIT = 51\n",
        "POPULATION_SIZE = 2000\n",
        "MUTATION_CHANCE=0.4\n",
        "\n",
        "\n"
      ],
      "metadata": {
        "id": "7ZHhtJQR8Qn5"
      },
      "execution_count": null,
      "outputs": []
    },
    {
      "cell_type": "code",
      "source": [
        "#Declaring all the possible moves in the maze\n",
        "all_moves=[\"n\",\"u\",\"d\",\"l\",\"r\"]\n"
      ],
      "metadata": {
        "id": "d55M_4_DAZ12"
      },
      "execution_count": null,
      "outputs": []
    },
    {
      "cell_type": "code",
      "source": [
        "#first population set\n",
        "def generate(POPULATION_SIZE):\n",
        "    population_set = []\n",
        "    for i in range(POPULATION_SIZE):\n",
        "        solution= [np.random.choice(all_moves) for _ in range(MAX_LIMIT)]\n",
        "        population_set.append(solution)\n",
        "    return np.array(population_set)"
      ],
      "metadata": {
        "id": "MywaMWIC82MS"
      },
      "execution_count": null,
      "outputs": []
    },
    {
      "cell_type": "code",
      "source": [
        "population_set= generate(POPULATION_SIZE)\n",
        "population_set"
      ],
      "metadata": {
        "id": "Golue9Ae-UMi",
        "colab": {
          "base_uri": "https://localhost:8080/"
        },
        "outputId": "06a51ce8-e11d-454a-9215-d8c7750db74f"
      },
      "execution_count": null,
      "outputs": [
        {
          "output_type": "execute_result",
          "data": {
            "text/plain": [
              "array([['d', 'r', 'l', ..., 'n', 'n', 'l'],\n",
              "       ['l', 'r', 'r', ..., 'r', 'r', 'r'],\n",
              "       ['n', 'd', 'l', ..., 'u', 'r', 'l'],\n",
              "       ...,\n",
              "       ['l', 'n', 'l', ..., 'u', 'd', 'l'],\n",
              "       ['l', 'u', 'r', ..., 'd', 'r', 'u'],\n",
              "       ['u', 'd', 'l', ..., 'd', 'l', 'n']], dtype='<U1')"
            ]
          },
          "metadata": {},
          "execution_count": 38
        }
      ]
    },
    {
      "cell_type": "code",
      "source": [
        "visit_list=[]\n",
        "visit_list.append([0,0])"
      ],
      "metadata": {
        "id": "uCUSS-xEshqX"
      },
      "execution_count": null,
      "outputs": []
    },
    {
      "cell_type": "code",
      "source": [
        "#logic for moves\n",
        "class Moves:\n",
        "  def __init__(self, a, b,penalty):\n",
        "    self.a = a\n",
        "    self.b = b\n",
        "    self.penalty=penalty\n",
        "\n",
        "  def go_left(self):\n",
        "    if self.b>0 and maze[self.a][self.b-1] ==\"o\" and [self.a,self.b-1] not in visit_list:\n",
        "      self.b=self.b-1\n",
        "      visit_list.append([self.a,self.b])\n",
        "    elif (self.b>0  and [self.a,self.b-1] in visit_list) or self.b==0  or (self.b>0 and maze[self.a][self.b-1] ==\"#\"):\n",
        "      self.penalty+=1\n",
        "\n",
        "  def go_right(self):\n",
        "    if self.b<n-1 and maze[self.a][self.b+1] ==\"o\" and [self.a,self.b+1] not in visit_list:\n",
        "      self.b=self.b+1\n",
        "      visit_list.append([self.a,self.b])\n",
        "    elif (self.b<n-1  and [self.a,self.b+1] in visit_list) or self.b==n-1  or (self.b<n-1 and maze[self.a][self.b+1] ==\"#\"):\n",
        "      self.penalty+=1\n",
        "\n",
        "  def go_up(self):\n",
        "    if self.a>0 and maze[self.a-1][self.b] ==\"o\" and [self.a-1,self.b] not in visit_list:\n",
        "      self.a=self.a-1\n",
        "      visit_list.append([self.a,self.b])\n",
        "    elif (self.a>0  and [self.a-1,self.b] in visit_list) or self.a==0  or (self.a>0 and maze[self.a-1][self.b] ==\"#\"):\n",
        "      self.penalty+=1\n",
        "      \n",
        "  def go_down(self):\n",
        "    if self.a<m-1 and maze[self.a+1][self.b] ==\"o\" and [self.a+1,self.b] not in visit_list:\n",
        "      self.a=self.a+1\n",
        "      visit_list.append([self.a,self.b])\n",
        "    elif (self.a<m-1 and [self.a+1,self.b] in visit_list) or self.a==m-1  or (self.a<m-1 and maze[self.a+1][self.b] ==\"#\"):\n",
        "      self.penalty+=1\n",
        "\n",
        "  def reset(self):\n",
        "    self.a=0\n",
        "    self. b=0\n",
        "    self.penalty=0\n",
        "    visit_list.clear()\n",
        "    visit_list.append([0,0])\n",
        "    \n",
        "\n"
      ],
      "metadata": {
        "id": "V4-GK_KHE2Un"
      },
      "execution_count": null,
      "outputs": []
    },
    {
      "cell_type": "code",
      "source": [
        "#Start with the first block \n",
        "s=Moves(0,0,0)"
      ],
      "metadata": {
        "id": "m8sGW2ygpFVV"
      },
      "execution_count": null,
      "outputs": []
    },
    {
      "cell_type": "code",
      "source": [
        "#Calculating the fitness function\n",
        "def  fitness_eval(chro)  :\n",
        "    for j in range(len(chro)):\n",
        "      if(chro[j]=='u'):\n",
        "        s.go_up()\n",
        "      elif(chro[j]=='d'):\n",
        "        s.go_down()\n",
        "      elif(chro[j]=='l'):\n",
        "        s.go_left()\n",
        "      elif(chro[j]=='r'):\n",
        "        s.go_right()\n",
        "      elif(chro[j]=='n'):\n",
        "        continue\n",
        "    fitness_score=abs(s.a-(m-1))+abs(s.b-(n-1))+s.penalty\n",
        "    s.reset()\n",
        "    return fitness_score\n",
        "\n",
        "\n",
        "def get_fitness(population_set):\n",
        "    fitness_list = np.zeros(POPULATION_SIZE)\n",
        "    for i in range(POPULATION_SIZE):\n",
        "        fitness_list[i] = fitness_eval(population_set[i])\n",
        "\n",
        "    return fitness_list\n",
        "\n",
        "fitness_list = get_fitness(population_set)\n",
        "fitness_list\n",
        "\n",
        "\n"
      ],
      "metadata": {
        "id": "THdVTZmGB3qq",
        "colab": {
          "base_uri": "https://localhost:8080/"
        },
        "outputId": "1da26719-c2ac-4907-c533-87d9ae198f82"
      },
      "execution_count": null,
      "outputs": [
        {
          "output_type": "execute_result",
          "data": {
            "text/plain": [
              "array([72., 71., 78., ..., 74., 72., 80.])"
            ]
          },
          "metadata": {},
          "execution_count": 42
        }
      ]
    },
    {
      "cell_type": "code",
      "source": [
        "from numpy.lib.index_tricks import IndexExpression\n",
        "#Selecting the fittest parents\n",
        "def selection(fitness_list):\n",
        "    val_list=[]\n",
        "    \n",
        "    for i in range(len(fitness_list)):\n",
        "          val_list.append([fitness_list[i],i])\n",
        "    val_list.sort()\n",
        "    y=len(val_list)\n",
        "    y=int(y/2)\n",
        "\n",
        "    val_list=val_list[0:y]\n",
        "    indexes = []\n",
        "    \n",
        "    for i in val_list:\n",
        "          indexes.append(i[1])\n",
        "    selection_list = []\n",
        "    for i in indexes:\n",
        "          selection_list.append(population_set[i])\n",
        "\n",
        "\n",
        "    return(selection_list)\n",
        "selection_list=selection(fitness_list)\n",
        "selection_list"
      ],
      "metadata": {
        "id": "0LuDqfdXN0iv"
      },
      "execution_count": null,
      "outputs": []
    },
    {
      "cell_type": "code",
      "source": [
        "#Mutation\n",
        "def mutate_offspring(offspring):\n",
        "   if MUTATION_CHANCE> np.random.uniform(0,1):\n",
        "     offspring[np.random.randint(0,len(offspring))]=np.random.choice(all_moves)\n",
        "   return offspring\n"
      ],
      "metadata": {
        "id": "P0hBWATXPPBZ"
      },
      "execution_count": null,
      "outputs": []
    },
    {
      "cell_type": "code",
      "source": [
        "#CrossOver\n",
        "def crossover(selection_list):\n",
        "  new_population_set=[]\n",
        "  for i in range(POPULATION_SIZE):\n",
        "    first_parent=selection_list[np.random.randint(0,len(selection_list))]\n",
        "    second_parent=selection_list[np.random.randint(0,len(selection_list))]\n",
        "   \n",
        "    crossover_point=np.random.randint(0,MAX_LIMIT)\n",
        "    parent=np.concatenate((first_parent[0:crossover_point],second_parent[crossover_point:len(second_parent)]))\n",
        "    offspring=mutate_offspring(parent)\n",
        "    new_population_set.append(offspring)\n",
        "  return np.array(new_population_set)\n",
        "\n",
        "\n",
        "   "
      ],
      "metadata": {
        "id": "hT4RTRtMCBw6"
      },
      "execution_count": null,
      "outputs": []
    },
    {
      "cell_type": "code",
      "source": [
        "new_population_set=crossover(selection_list)\n",
        "new_population_set"
      ],
      "metadata": {
        "colab": {
          "base_uri": "https://localhost:8080/"
        },
        "id": "UUsKVovA0E1Z",
        "outputId": "3a40f00c-03c2-468c-9227-f16ba5a2aa6b"
      },
      "execution_count": null,
      "outputs": [
        {
          "output_type": "execute_result",
          "data": {
            "text/plain": [
              "array([['d', 'r', 'n', ..., 'r', 'l', 'u'],\n",
              "       ['n', 'n', 'r', ..., 'd', 'n', 'u'],\n",
              "       ['r', 'n', 'u', ..., 'r', 'r', 'r'],\n",
              "       ...,\n",
              "       ['u', 'r', 'r', ..., 'u', 'u', 'l'],\n",
              "       ['r', 'd', 'l', ..., 'u', 'r', 'u'],\n",
              "       ['r', 'l', 'u', ..., 'n', 'r', 'l']], dtype='<U1')"
            ]
          },
          "metadata": {},
          "execution_count": 46
        }
      ]
    },
    {
      "cell_type": "code",
      "source": [
        "#5000 iterations\n",
        "for j in range(5000):\n",
        "  fitness_list=get_fitness(new_population_set)\n",
        "  if(j!=4999):\n",
        "    for i in range(len(fitness_list)):\n",
        "      if fitness_list[i]==0:\n",
        "        final=new_population_set[i]\n",
        "        count=1\n",
        "        break\n",
        "    selection_list=selection(fitness_list)\n",
        "    new_population_set=crossover(selection_list)\n",
        "  \n",
        "\n",
        "\n"
      ],
      "metadata": {
        "id": "4FFCYu6kwfa9"
      },
      "execution_count": null,
      "outputs": []
    },
    {
      "cell_type": "code",
      "source": [
        "for i in range(len(fitness_list)):\n",
        "  if min(fitness_list)==fitness_list[i]:\n",
        "    final_solution=new_population_set[i]"
      ],
      "metadata": {
        "id": "Gfo1ONB7bb5w"
      },
      "execution_count": null,
      "outputs": []
    },
    {
      "cell_type": "code",
      "source": [
        "final_solution"
      ],
      "metadata": {
        "colab": {
          "base_uri": "https://localhost:8080/"
        },
        "id": "gdje2PBTE2ez",
        "outputId": "6739120e-5495-4843-e92e-7513fef0ab88"
      },
      "execution_count": null,
      "outputs": [
        {
          "output_type": "execute_result",
          "data": {
            "text/plain": [
              "array(['n', 'u', 'n', 'l', 'r', 'n', 'd', 'n', 'r', 'n', 'd', 'l', 'r',\n",
              "       'd', 'd', 'r', 'd', 'u', 'n', 'u', 'u', 'r', 'n', 'n', 'r', 'l',\n",
              "       'd', 'r', 'd', 'u', 'n', 'n', 'r', 'd', 'l', 'n', 'r', 'n', 'l',\n",
              "       'd', 'd', 'r', 'u', 'r', 'r', 'r', 'r', 'd', 'r', 'u', 'u'],\n",
              "      dtype='<U1')"
            ]
          },
          "metadata": {},
          "execution_count": 51
        }
      ]
    }
  ]
}